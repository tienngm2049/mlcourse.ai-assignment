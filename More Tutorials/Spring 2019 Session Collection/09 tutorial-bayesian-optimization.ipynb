{
 "cells": [
  {
   "cell_type": "markdown",
   "metadata": {},
   "source": [
    "## Bayesian methods of hyperparameter optimization"
   ]
  },
  {
   "cell_type": "markdown",
   "metadata": {},
   "source": [
    "This kernel is about using library BayesianOptimization, that can do parameters tuning for us much easier. This library has very good documentation, so I will use information from this and you can find there much more information.\n",
    "\n",
    "Documentation:\n",
    "https://github.com/fmfn/BayesianOptimization"
   ]
  },
  {
   "cell_type": "markdown",
   "metadata": {},
   "source": [
    "At first this is simple data preparation to show, how to work with library. "
   ]
  },
  {
   "cell_type": "code",
   "execution_count": 1,
   "metadata": {
    "ExecuteTime": {
     "end_time": "2019-04-22T16:39:09.312682Z",
     "start_time": "2019-04-22T16:39:09.309208Z"
    },
    "_kg_hide-input": true
   },
   "outputs": [],
   "source": [
    "import warnings\n",
    "warnings.filterwarnings('ignore')\n",
    "from sklearn.preprocessing import LabelEncoder\n",
    "import numpy as np\n",
    "import pandas as pd\n",
    "import lightgbm\n",
    "from bayes_opt import BayesianOptimization\n",
    "from catboost import CatBoostClassifier, cv, Pool"
   ]
  },
  {
   "cell_type": "code",
   "execution_count": 2,
   "metadata": {
    "ExecuteTime": {
     "end_time": "2019-04-22T15:38:42.677690Z",
     "start_time": "2019-04-22T15:38:42.481963Z"
    }
   },
   "outputs": [],
   "source": [
    "train_df = pd.read_csv('../input/flight_delays_train.csv')\n",
    "test_df = pd.read_csv('../input/flight_delays_test.csv')\n",
    "train_df = train_df[train_df.DepTime <= 2400].copy()\n",
    "y_train = train_df['dep_delayed_15min'].map({'Y': 1, 'N': 0}).values"
   ]
  },
  {
   "cell_type": "code",
   "execution_count": 3,
   "metadata": {
    "ExecuteTime": {
     "end_time": "2019-04-22T15:38:43.105354Z",
     "start_time": "2019-04-22T15:38:43.090142Z"
    },
    "_kg_hide-input": true
   },
   "outputs": [],
   "source": [
    "def label_enc(df_column):\n",
    "    df_column = LabelEncoder().fit_transform(df_column)\n",
    "    return df_column\n",
    "\n",
    "def make_harmonic_features_sin(value, period=2400):\n",
    "    value *= 2 * np.pi / period \n",
    "    return np.sin(value)\n",
    "\n",
    "def make_harmonic_features_cos(value, period=2400):\n",
    "    value *= 2 * np.pi / period \n",
    "    return np.cos(value)\n",
    "\n",
    "def feature_eng(df):\n",
    "    df['flight'] = df['Origin']+df['Dest']\n",
    "    df['Month'] = df.Month.map(lambda x: x.split('-')[-1]).astype('int32')\n",
    "    df['DayofMonth'] = df.DayofMonth.map(lambda x: x.split('-')[-1]).astype('uint8')\n",
    "    df['begin_of_month'] = (df['DayofMonth'] < 10).astype('uint8')\n",
    "    df['midddle_of_month'] = ((df['DayofMonth'] >= 10)&(df['DayofMonth'] < 20)).astype('uint8')\n",
    "    df['end_of_month'] = (df['DayofMonth'] >= 20).astype('uint8')\n",
    "    df['DayOfWeek'] = df.DayOfWeek.map(lambda x: x.split('-')[-1]).astype('uint8')\n",
    "    df['hour'] = df.DepTime.map(lambda x: x/100).astype('int32')\n",
    "    df['morning'] = df['hour'].map(lambda x: 1 if (x <= 11)& (x >= 7) else 0).astype('uint8')\n",
    "    df['day'] = df['hour'].map(lambda x: 1 if (x >= 12) & (x <= 18) else 0).astype('uint8')\n",
    "    df['evening'] = df['hour'].map(lambda x: 1 if (x >= 19) & (x <= 23) else 0).astype('uint8')\n",
    "    df['night'] = df['hour'].map(lambda x: 1 if (x >= 0) & (x <= 6) else 0).astype('int32')\n",
    "    df['winter'] = df['Month'].map(lambda x: x in [12, 1, 2]).astype('int32')\n",
    "    df['spring'] = df['Month'].map(lambda x: x in [3, 4, 5]).astype('int32')\n",
    "    df['summer'] = df['Month'].map(lambda x: x in [6, 7, 8]).astype('int32')\n",
    "    df['autumn'] = df['Month'].map(lambda x: x in [9, 10, 11]).astype('int32')\n",
    "    df['holiday'] = (df['DayOfWeek'] >= 5).astype(int) \n",
    "    df['weekday'] = (df['DayOfWeek'] < 5).astype(int)\n",
    "    df['airport_dest_per_month'] = df.groupby(['Dest', 'Month'])['Dest'].transform('count')\n",
    "    df['airport_origin_per_month'] = df.groupby(['Origin', 'Month'])['Origin'].transform('count')\n",
    "    df['airport_dest_count'] = df.groupby(['Dest'])['Dest'].transform('count')\n",
    "    df['airport_origin_count'] = df.groupby(['Origin'])['Origin'].transform('count')\n",
    "    df['carrier_count'] = df.groupby(['UniqueCarrier'])['Dest'].transform('count')\n",
    "    df['carrier_count_per month'] = df.groupby(['UniqueCarrier', 'Month'])['Dest'].transform('count')\n",
    "    df['deptime_cos'] = df['DepTime'].map(make_harmonic_features_cos)\n",
    "    df['deptime_sin'] = df['DepTime'].map(make_harmonic_features_sin)\n",
    "    df['flightUC'] = df['flight']+df['UniqueCarrier']\n",
    "    df['DestUC'] = df['Dest']+df['UniqueCarrier']\n",
    "    df['OriginUC'] = df['Origin']+df['UniqueCarrier']\n",
    "    return df.drop('DepTime', axis=1)"
   ]
  },
  {
   "cell_type": "code",
   "execution_count": 4,
   "metadata": {
    "ExecuteTime": {
     "end_time": "2019-04-22T15:38:48.905225Z",
     "start_time": "2019-04-22T15:38:47.089640Z"
    }
   },
   "outputs": [],
   "source": [
    "full_df = pd.concat([train_df.drop('dep_delayed_15min', axis=1), test_df])\n",
    "full_df = feature_eng(full_df)\n",
    "\n",
    "for column in ['UniqueCarrier', 'Origin', 'Dest','flight',  'flightUC', 'DestUC', 'OriginUC']:\n",
    "    full_df[column] = label_enc(full_df[column])\n",
    "\n",
    "X_train = full_df[:train_df.shape[0]]\n",
    "X_test = full_df[train_df.shape[0]:]"
   ]
  },
  {
   "cell_type": "markdown",
   "metadata": {},
   "source": [
    "Now we have data to tune parameters for different models."
   ]
  },
  {
   "cell_type": "code",
   "execution_count": 5,
   "metadata": {
    "ExecuteTime": {
     "end_time": "2019-04-22T15:38:49.644188Z",
     "start_time": "2019-04-22T15:38:49.629631Z"
    }
   },
   "outputs": [
    {
     "data": {
      "text/html": [
       "<div>\n",
       "<style scoped>\n",
       "    .dataframe tbody tr th:only-of-type {\n",
       "        vertical-align: middle;\n",
       "    }\n",
       "\n",
       "    .dataframe tbody tr th {\n",
       "        vertical-align: top;\n",
       "    }\n",
       "\n",
       "    .dataframe thead th {\n",
       "        text-align: right;\n",
       "    }\n",
       "</style>\n",
       "<table border=\"1\" class=\"dataframe\">\n",
       "  <thead>\n",
       "    <tr style=\"text-align: right;\">\n",
       "      <th></th>\n",
       "      <th>Month</th>\n",
       "      <th>DayofMonth</th>\n",
       "      <th>DayOfWeek</th>\n",
       "      <th>UniqueCarrier</th>\n",
       "      <th>Origin</th>\n",
       "      <th>Dest</th>\n",
       "      <th>Distance</th>\n",
       "      <th>flight</th>\n",
       "      <th>begin_of_month</th>\n",
       "      <th>midddle_of_month</th>\n",
       "      <th>end_of_month</th>\n",
       "      <th>hour</th>\n",
       "      <th>morning</th>\n",
       "      <th>day</th>\n",
       "      <th>evening</th>\n",
       "      <th>night</th>\n",
       "      <th>winter</th>\n",
       "      <th>spring</th>\n",
       "      <th>summer</th>\n",
       "      <th>autumn</th>\n",
       "      <th>holiday</th>\n",
       "      <th>weekday</th>\n",
       "      <th>airport_dest_per_month</th>\n",
       "      <th>airport_origin_per_month</th>\n",
       "      <th>airport_dest_count</th>\n",
       "      <th>airport_origin_count</th>\n",
       "      <th>carrier_count</th>\n",
       "      <th>carrier_count_per month</th>\n",
       "      <th>deptime_cos</th>\n",
       "      <th>deptime_sin</th>\n",
       "      <th>flightUC</th>\n",
       "      <th>DestUC</th>\n",
       "      <th>OriginUC</th>\n",
       "    </tr>\n",
       "  </thead>\n",
       "  <tbody>\n",
       "    <tr>\n",
       "      <th>0</th>\n",
       "      <td>8</td>\n",
       "      <td>21</td>\n",
       "      <td>7</td>\n",
       "      <td>1</td>\n",
       "      <td>19</td>\n",
       "      <td>82</td>\n",
       "      <td>732</td>\n",
       "      <td>171</td>\n",
       "      <td>0</td>\n",
       "      <td>0</td>\n",
       "      <td>1</td>\n",
       "      <td>19</td>\n",
       "      <td>0</td>\n",
       "      <td>0</td>\n",
       "      <td>1</td>\n",
       "      <td>0</td>\n",
       "      <td>0</td>\n",
       "      <td>0</td>\n",
       "      <td>1</td>\n",
       "      <td>0</td>\n",
       "      <td>1</td>\n",
       "      <td>0</td>\n",
       "      <td>746</td>\n",
       "      <td>1016</td>\n",
       "      <td>8290</td>\n",
       "      <td>11375</td>\n",
       "      <td>18024</td>\n",
       "      <td>1569</td>\n",
       "      <td>0.343660</td>\n",
       "      <td>-0.939094</td>\n",
       "      <td>265</td>\n",
       "      <td>494</td>\n",
       "      <td>67</td>\n",
       "    </tr>\n",
       "    <tr>\n",
       "      <th>1</th>\n",
       "      <td>4</td>\n",
       "      <td>20</td>\n",
       "      <td>3</td>\n",
       "      <td>19</td>\n",
       "      <td>226</td>\n",
       "      <td>180</td>\n",
       "      <td>834</td>\n",
       "      <td>3986</td>\n",
       "      <td>0</td>\n",
       "      <td>0</td>\n",
       "      <td>1</td>\n",
       "      <td>15</td>\n",
       "      <td>0</td>\n",
       "      <td>1</td>\n",
       "      <td>0</td>\n",
       "      <td>0</td>\n",
       "      <td>0</td>\n",
       "      <td>1</td>\n",
       "      <td>0</td>\n",
       "      <td>0</td>\n",
       "      <td>0</td>\n",
       "      <td>1</td>\n",
       "      <td>313</td>\n",
       "      <td>105</td>\n",
       "      <td>3523</td>\n",
       "      <td>1390</td>\n",
       "      <td>13069</td>\n",
       "      <td>1094</td>\n",
       "      <td>-0.612907</td>\n",
       "      <td>-0.790155</td>\n",
       "      <td>6907</td>\n",
       "      <td>1085</td>\n",
       "      <td>1441</td>\n",
       "    </tr>\n",
       "    <tr>\n",
       "      <th>2</th>\n",
       "      <td>9</td>\n",
       "      <td>2</td>\n",
       "      <td>5</td>\n",
       "      <td>21</td>\n",
       "      <td>239</td>\n",
       "      <td>62</td>\n",
       "      <td>416</td>\n",
       "      <td>4091</td>\n",
       "      <td>1</td>\n",
       "      <td>0</td>\n",
       "      <td>0</td>\n",
       "      <td>14</td>\n",
       "      <td>0</td>\n",
       "      <td>1</td>\n",
       "      <td>0</td>\n",
       "      <td>0</td>\n",
       "      <td>0</td>\n",
       "      <td>0</td>\n",
       "      <td>0</td>\n",
       "      <td>1</td>\n",
       "      <td>1</td>\n",
       "      <td>0</td>\n",
       "      <td>166</td>\n",
       "      <td>136</td>\n",
       "      <td>2246</td>\n",
       "      <td>1747</td>\n",
       "      <td>11737</td>\n",
       "      <td>977</td>\n",
       "      <td>-0.835807</td>\n",
       "      <td>-0.549023</td>\n",
       "      <td>7064</td>\n",
       "      <td>359</td>\n",
       "      <td>1518</td>\n",
       "    </tr>\n",
       "    <tr>\n",
       "      <th>3</th>\n",
       "      <td>11</td>\n",
       "      <td>25</td>\n",
       "      <td>6</td>\n",
       "      <td>16</td>\n",
       "      <td>81</td>\n",
       "      <td>184</td>\n",
       "      <td>872</td>\n",
       "      <td>1304</td>\n",
       "      <td>0</td>\n",
       "      <td>0</td>\n",
       "      <td>1</td>\n",
       "      <td>10</td>\n",
       "      <td>1</td>\n",
       "      <td>0</td>\n",
       "      <td>0</td>\n",
       "      <td>0</td>\n",
       "      <td>0</td>\n",
       "      <td>0</td>\n",
       "      <td>0</td>\n",
       "      <td>1</td>\n",
       "      <td>1</td>\n",
       "      <td>0</td>\n",
       "      <td>136</td>\n",
       "      <td>514</td>\n",
       "      <td>1785</td>\n",
       "      <td>6222</td>\n",
       "      <td>15343</td>\n",
       "      <td>1242</td>\n",
       "      <td>-0.884988</td>\n",
       "      <td>0.465615</td>\n",
       "      <td>2258</td>\n",
       "      <td>1122</td>\n",
       "      <td>484</td>\n",
       "    </tr>\n",
       "    <tr>\n",
       "      <th>4</th>\n",
       "      <td>10</td>\n",
       "      <td>7</td>\n",
       "      <td>6</td>\n",
       "      <td>20</td>\n",
       "      <td>182</td>\n",
       "      <td>210</td>\n",
       "      <td>423</td>\n",
       "      <td>2979</td>\n",
       "      <td>1</td>\n",
       "      <td>0</td>\n",
       "      <td>0</td>\n",
       "      <td>18</td>\n",
       "      <td>0</td>\n",
       "      <td>1</td>\n",
       "      <td>0</td>\n",
       "      <td>0</td>\n",
       "      <td>0</td>\n",
       "      <td>0</td>\n",
       "      <td>0</td>\n",
       "      <td>1</td>\n",
       "      <td>1</td>\n",
       "      <td>0</td>\n",
       "      <td>48</td>\n",
       "      <td>226</td>\n",
       "      <td>687</td>\n",
       "      <td>2571</td>\n",
       "      <td>30958</td>\n",
       "      <td>2674</td>\n",
       "      <td>0.073238</td>\n",
       "      <td>-0.997314</td>\n",
       "      <td>5144</td>\n",
       "      <td>1313</td>\n",
       "      <td>1103</td>\n",
       "    </tr>\n",
       "  </tbody>\n",
       "</table>\n",
       "</div>"
      ],
      "text/plain": [
       "   Month  DayofMonth  DayOfWeek    ...     flightUC  DestUC  OriginUC\n",
       "0      8          21          7    ...          265     494        67\n",
       "1      4          20          3    ...         6907    1085      1441\n",
       "2      9           2          5    ...         7064     359      1518\n",
       "3     11          25          6    ...         2258    1122       484\n",
       "4     10           7          6    ...         5144    1313      1103\n",
       "\n",
       "[5 rows x 33 columns]"
      ]
     },
     "execution_count": 5,
     "metadata": {},
     "output_type": "execute_result"
    }
   ],
   "source": [
    "X_train.head()"
   ]
  },
  {
   "cell_type": "markdown",
   "metadata": {
    "ExecuteTime": {
     "end_time": "2019-04-22T14:48:15.929012Z",
     "start_time": "2019-04-22T14:48:15.926574Z"
    }
   },
   "source": [
    "## How does it work"
   ]
  },
  {
   "cell_type": "markdown",
   "metadata": {},
   "source": [
    "Bayesian optimization works by constructing a posterior distribution of functions (gaussian process) that best describes the function you want to optimize. As the number of observations grows, the posterior distribution improves, and the algorithm becomes more certain of which regions in parameter space are worth exploring and which are not, as seen in the picture below."
   ]
  },
  {
   "cell_type": "markdown",
   "metadata": {},
   "source": [
    "<img src=\"https://github.com/fmfn/BayesianOptimization/blob/master/examples/bo_example.png?raw=true\" />\n",
    "As you iterate over and over, the algorithm balances its needs of exploration and exploitation taking into account what it knows about the target function. At each step a Gaussian Process is fitted to the known samples (points previously explored), and the posterior distribution, combined with a exploration strategy (such as UCB (Upper Confidence Bound), or EI (Expected Improvement)), are used to determine the next point that should be explored (see the gif below).\n",
    "<img src=\"https://github.com/fmfn/BayesianOptimization/raw/master/examples/bayesian_optimization.gif\" />"
   ]
  },
  {
   "cell_type": "markdown",
   "metadata": {
    "ExecuteTime": {
     "end_time": "2019-04-22T14:54:06.139253Z",
     "start_time": "2019-04-22T14:54:06.136884Z"
    }
   },
   "source": [
    "## Simple example"
   ]
  },
  {
   "cell_type": "markdown",
   "metadata": {},
   "source": [
    "At first you should create an optimizer. It uses two things:\n",
    "* function to optimize\n",
    "* bounds of parameters\n",
    "\n",
    "For us function is the procedure, which counts metrics of our model quality."
   ]
  },
  {
   "cell_type": "markdown",
   "metadata": {},
   "source": [
    "**!** The important thing is that our optimization will maximize the value on function. So if your metric should be smaller the better, don't forget to use negative metric value."
   ]
  },
  {
   "cell_type": "code",
   "execution_count": 6,
   "metadata": {
    "ExecuteTime": {
     "end_time": "2019-04-22T15:03:29.856079Z",
     "start_time": "2019-04-22T15:03:29.853184Z"
    }
   },
   "outputs": [],
   "source": [
    "def simple_functon(a, b):\n",
    "    return a + b"
   ]
  },
  {
   "cell_type": "code",
   "execution_count": 7,
   "metadata": {
    "ExecuteTime": {
     "end_time": "2019-04-22T15:09:19.765549Z",
     "start_time": "2019-04-22T15:09:19.761682Z"
    }
   },
   "outputs": [],
   "source": [
    "optimizer = BayesianOptimization(\n",
    "    simple_functon,\n",
    "    {'a': (1, 3),\n",
    "    'b': (4, 7)})"
   ]
  },
  {
   "cell_type": "markdown",
   "metadata": {},
   "source": [
    "Main parameters of this function:\n",
    "\n",
    "* **n_iter**: How many steps of bayesian optimization you want to perform. The more steps the more likely to find a good maximum you are.\n",
    "* **init_points**: How many steps of random exploration you want to perform. Random exploration can help by diversifying the exploration space."
   ]
  },
  {
   "cell_type": "code",
   "execution_count": 8,
   "metadata": {
    "ExecuteTime": {
     "end_time": "2019-04-22T15:11:53.092328Z",
     "start_time": "2019-04-22T15:11:52.436149Z"
    }
   },
   "outputs": [
    {
     "name": "stdout",
     "output_type": "stream",
     "text": [
      "|   iter    |  target   |     a     |     b     |\n",
      "-------------------------------------------------\n",
      "| \u001b[0m 1       \u001b[0m | \u001b[0m 6.9     \u001b[0m | \u001b[0m 2.869   \u001b[0m | \u001b[0m 4.031   \u001b[0m |\n",
      "| \u001b[95m 2       \u001b[0m | \u001b[95m 8.432   \u001b[0m | \u001b[95m 2.137   \u001b[0m | \u001b[95m 6.294   \u001b[0m |\n",
      "| \u001b[0m 3       \u001b[0m | \u001b[0m 7.177   \u001b[0m | \u001b[0m 1.488   \u001b[0m | \u001b[0m 5.689   \u001b[0m |\n",
      "| \u001b[0m 4       \u001b[0m | \u001b[0m 6.34    \u001b[0m | \u001b[0m 2.201   \u001b[0m | \u001b[0m 4.139   \u001b[0m |\n",
      "| \u001b[95m 5       \u001b[0m | \u001b[95m 9.851   \u001b[0m | \u001b[95m 2.851   \u001b[0m | \u001b[95m 7.0     \u001b[0m |\n",
      "=================================================\n"
     ]
    }
   ],
   "source": [
    "optimizer.maximize(3, 2)"
   ]
  },
  {
   "cell_type": "markdown",
   "metadata": {},
   "source": [
    "Ideal! We can see the best params:"
   ]
  },
  {
   "cell_type": "code",
   "execution_count": 9,
   "metadata": {
    "ExecuteTime": {
     "end_time": "2019-04-22T15:15:04.748012Z",
     "start_time": "2019-04-22T15:15:04.743940Z"
    }
   },
   "outputs": [
    {
     "data": {
      "text/plain": [
       "{'a': 2.851454859656846, 'b': 7.0}"
      ]
     },
     "execution_count": 9,
     "metadata": {},
     "output_type": "execute_result"
    }
   ],
   "source": [
    "optimizer.max['params']"
   ]
  },
  {
   "cell_type": "markdown",
   "metadata": {},
   "source": [
    "... and the best result"
   ]
  },
  {
   "cell_type": "code",
   "execution_count": 10,
   "metadata": {
    "ExecuteTime": {
     "end_time": "2019-04-22T15:15:39.774880Z",
     "start_time": "2019-04-22T15:15:39.770870Z"
    }
   },
   "outputs": [
    {
     "data": {
      "text/plain": [
       "9.851454859656846"
      ]
     },
     "execution_count": 10,
     "metadata": {},
     "output_type": "execute_result"
    }
   ],
   "source": [
    "optimizer.max['target']"
   ]
  },
  {
   "cell_type": "markdown",
   "metadata": {},
   "source": [
    "**!** The important thing is that our optimization will maximize the value on function. So if your metric should be smaller the better, don't forget to use negative metric value. Optimizer use float values of params, you should use int() in function, if this parameter must be integer."
   ]
  },
  {
   "cell_type": "markdown",
   "metadata": {
    "ExecuteTime": {
     "end_time": "2019-04-22T15:17:46.349380Z",
     "start_time": "2019-04-22T15:17:46.347003Z"
    }
   },
   "source": [
    "## Test it on data"
   ]
  },
  {
   "cell_type": "markdown",
   "metadata": {
    "ExecuteTime": {
     "end_time": "2019-04-22T15:18:04.466965Z",
     "start_time": "2019-04-22T15:18:04.457992Z"
    }
   },
   "source": [
    "### LigthGBM"
   ]
  },
  {
   "cell_type": "markdown",
   "metadata": {},
   "source": [
    "My kernel about using it on real data and real peremeters with LightGBM: \n",
    "https://www.kaggle.com/clair14/gold-is-the-reason-teams-and-bayes-for-lightgbm\n",
    "\n",
    "There I will use random values of parameters to test."
   ]
  },
  {
   "cell_type": "code",
   "execution_count": 11,
   "metadata": {
    "ExecuteTime": {
     "end_time": "2019-04-22T14:31:58.412296Z",
     "start_time": "2019-04-22T14:31:58.409088Z"
    }
   },
   "outputs": [],
   "source": [
    "categorical_features = ['Month',  'DayOfWeek', 'UniqueCarrier', 'Origin', 'Dest','flight',  'flightUC', 'DestUC', 'OriginUC']"
   ]
  },
  {
   "cell_type": "markdown",
   "metadata": {},
   "source": [
    "This is function, that we want to maximize - function, that counts cross-validation metrics of lightGBM for our params.\n",
    "\n",
    "Some params such as num_leaves, max_depth, min_child_samples, min_data_in_leaf should be integers."
   ]
  },
  {
   "cell_type": "code",
   "execution_count": 12,
   "metadata": {
    "ExecuteTime": {
     "end_time": "2019-04-22T15:40:14.034265Z",
     "start_time": "2019-04-22T15:40:14.027868Z"
    }
   },
   "outputs": [],
   "source": [
    "def lgb_eval(num_leaves,max_depth,lambda_l2,lambda_l1,min_child_samples, min_data_in_leaf):\n",
    "    params = {\n",
    "        \"objective\" : \"binary\",\n",
    "        \"metric\" : \"auc\", \n",
    "        'is_unbalance': True,\n",
    "        \"num_leaves\" : int(num_leaves),\n",
    "        \"max_depth\" : int(max_depth),\n",
    "        \"lambda_l2\" : lambda_l2,\n",
    "        \"lambda_l1\" : lambda_l1,\n",
    "        \"num_threads\" : 20,\n",
    "        \"min_child_samples\" : int(min_child_samples),\n",
    "        'min_data_in_leaf': int(min_data_in_leaf),\n",
    "        \"learning_rate\" : 0.03,\n",
    "        \"subsample_freq\" : 5,\n",
    "        \"bagging_seed\" : 42,\n",
    "        \"verbosity\" : -1\n",
    "    }\n",
    "    lgtrain = lightgbm.Dataset(X_train, y_train,categorical_feature=categorical_features)\n",
    "    cv_result = lightgbm.cv(params,\n",
    "                       lgtrain,\n",
    "                       1000,\n",
    "                       early_stopping_rounds=100,\n",
    "                       stratified=True,\n",
    "                       nfold=3)\n",
    "    return cv_result['auc-mean'][-1]"
   ]
  },
  {
   "cell_type": "code",
   "execution_count": 13,
   "metadata": {
    "ExecuteTime": {
     "end_time": "2019-04-22T15:48:04.682447Z",
     "start_time": "2019-04-22T15:40:14.641634Z"
    }
   },
   "outputs": [
    {
     "name": "stdout",
     "output_type": "stream",
     "text": [
      "|   iter    |  target   | lambda_l1 | lambda_l2 | max_depth | min_ch... | min_da... | num_le... |\n",
      "-------------------------------------------------------------------------------------------------\n",
      "| \u001b[0m 1       \u001b[0m | \u001b[0m 0.7292  \u001b[0m | \u001b[0m 0.01147 \u001b[0m | \u001b[0m 0.02856 \u001b[0m | \u001b[0m 11.78   \u001b[0m | \u001b[0m 1.22e+03\u001b[0m | \u001b[0m 873.0   \u001b[0m | \u001b[0m 2.075e+0\u001b[0m |\n",
      "| \u001b[95m 2       \u001b[0m | \u001b[95m 0.7466  \u001b[0m | \u001b[95m 0.0144  \u001b[0m | \u001b[95m 0.02283 \u001b[0m | \u001b[95m 44.47   \u001b[0m | \u001b[95m 7.188e+0\u001b[0m | \u001b[95m 1.464e+0\u001b[0m | \u001b[95m 3.649e+0\u001b[0m |\n",
      "| \u001b[0m 3       \u001b[0m | \u001b[0m 0.7142  \u001b[0m | \u001b[0m 0.02691 \u001b[0m | \u001b[0m 0.03727 \u001b[0m | \u001b[0m 38.44   \u001b[0m | \u001b[0m 9.994e+0\u001b[0m | \u001b[0m 214.9   \u001b[0m | \u001b[0m 43.16   \u001b[0m |\n",
      "| \u001b[0m 4       \u001b[0m | \u001b[0m 0.722   \u001b[0m | \u001b[0m 0.002346\u001b[0m | \u001b[0m 0.003244\u001b[0m | \u001b[0m 42.38   \u001b[0m | \u001b[0m 9.939e+0\u001b[0m | \u001b[0m 108.5   \u001b[0m | \u001b[0m 3.99e+03\u001b[0m |\n",
      "| \u001b[0m 5       \u001b[0m | \u001b[0m 0.7457  \u001b[0m | \u001b[0m 0.01357 \u001b[0m | \u001b[0m 0.007288\u001b[0m | \u001b[0m 21.44   \u001b[0m | \u001b[0m 9.947e+0\u001b[0m | \u001b[0m 1.964e+0\u001b[0m | \u001b[0m 3.91e+03\u001b[0m |\n",
      "| \u001b[0m 6       \u001b[0m | \u001b[0m 0.7456  \u001b[0m | \u001b[0m 0.0097  \u001b[0m | \u001b[0m 0.04394 \u001b[0m | \u001b[0m 16.27   \u001b[0m | \u001b[0m 70.82   \u001b[0m | \u001b[0m 1.998e+0\u001b[0m | \u001b[0m 3.915e+0\u001b[0m |\n",
      "| \u001b[0m 7       \u001b[0m | \u001b[0m 0.7459  \u001b[0m | \u001b[0m 0.002131\u001b[0m | \u001b[0m 0.02699 \u001b[0m | \u001b[0m 15.08   \u001b[0m | \u001b[0m 4.967e+0\u001b[0m | \u001b[0m 1.98e+03\u001b[0m | \u001b[0m 3.981e+0\u001b[0m |\n",
      "| \u001b[0m 8       \u001b[0m | \u001b[0m 0.7457  \u001b[0m | \u001b[0m 0.03269 \u001b[0m | \u001b[0m 0.008767\u001b[0m | \u001b[0m 44.74   \u001b[0m | \u001b[0m 60.7    \u001b[0m | \u001b[0m 1.944e+0\u001b[0m | \u001b[0m 40.69   \u001b[0m |\n",
      "| \u001b[0m 9       \u001b[0m | \u001b[0m 0.7457  \u001b[0m | \u001b[0m 0.03382 \u001b[0m | \u001b[0m 0.006614\u001b[0m | \u001b[0m 37.84   \u001b[0m | \u001b[0m 6.244e+0\u001b[0m | \u001b[0m 1.998e+0\u001b[0m | \u001b[0m 33.92   \u001b[0m |\n",
      "| \u001b[0m 10      \u001b[0m | \u001b[0m 0.7456  \u001b[0m | \u001b[0m 0.02145 \u001b[0m | \u001b[0m 0.03909 \u001b[0m | \u001b[0m 59.43   \u001b[0m | \u001b[0m 7.947e+0\u001b[0m | \u001b[0m 1.993e+0\u001b[0m | \u001b[0m 2.196e+0\u001b[0m |\n",
      "| \u001b[0m 11      \u001b[0m | \u001b[0m 0.7437  \u001b[0m | \u001b[0m 0.02842 \u001b[0m | \u001b[0m 0.04053 \u001b[0m | \u001b[0m 5.463   \u001b[0m | \u001b[0m 8.01e+03\u001b[0m | \u001b[0m 1.965e+0\u001b[0m | \u001b[0m 3.966e+0\u001b[0m |\n",
      "| \u001b[0m 12      \u001b[0m | \u001b[0m 0.7209  \u001b[0m | \u001b[0m 0.01095 \u001b[0m | \u001b[0m 0.02657 \u001b[0m | \u001b[0m 57.21   \u001b[0m | \u001b[0m 178.2   \u001b[0m | \u001b[0m 121.3   \u001b[0m | \u001b[0m 3.904e+0\u001b[0m |\n",
      "=================================================================================================\n"
     ]
    }
   ],
   "source": [
    "lgbBO = BayesianOptimization(lgb_eval, {'num_leaves': (25, 4000),\n",
    "                                                'max_depth': (5, 63),\n",
    "                                                'lambda_l2': (0.0, 0.05),\n",
    "                                                'lambda_l1': (0.0, 0.05),\n",
    "                                                'min_child_samples': (50, 10000),\n",
    "                                                'min_data_in_leaf': (100, 2000)\n",
    "                                                })\n",
    "\n",
    "lgbBO.maximize(n_iter=10, init_points=2)"
   ]
  },
  {
   "cell_type": "markdown",
   "metadata": {},
   "source": [
    "Now you can see the result"
   ]
  },
  {
   "cell_type": "code",
   "execution_count": 14,
   "metadata": {
    "ExecuteTime": {
     "end_time": "2019-04-22T15:49:01.513767Z",
     "start_time": "2019-04-22T15:49:01.509392Z"
    }
   },
   "outputs": [
    {
     "data": {
      "text/plain": [
       "{'target': 0.746558505094885,\n",
       " 'params': {'lambda_l1': 0.01440144517073837,\n",
       "  'lambda_l2': 0.02282841464037362,\n",
       "  'max_depth': 44.46957161169711,\n",
       "  'min_child_samples': 7188.477326338226,\n",
       "  'min_data_in_leaf': 1463.6619898784904,\n",
       "  'num_leaves': 3648.7264465083626}}"
      ]
     },
     "execution_count": 14,
     "metadata": {},
     "output_type": "execute_result"
    }
   ],
   "source": [
    "lgbBO.max"
   ]
  },
  {
   "cell_type": "markdown",
   "metadata": {
    "ExecuteTime": {
     "end_time": "2019-04-22T15:50:29.049881Z",
     "start_time": "2019-04-22T15:50:29.045908Z"
    }
   },
   "source": [
    "And all the process in each step..."
   ]
  },
  {
   "cell_type": "code",
   "execution_count": 15,
   "metadata": {
    "ExecuteTime": {
     "end_time": "2019-04-22T15:51:01.001688Z",
     "start_time": "2019-04-22T15:51:00.997484Z"
    }
   },
   "outputs": [
    {
     "data": {
      "text/plain": [
       "{'target': 0.7292442020076888,\n",
       " 'params': {'lambda_l1': 0.011471649107357002,\n",
       "  'lambda_l2': 0.02856379808602373,\n",
       "  'max_depth': 11.78349479847602,\n",
       "  'min_child_samples': 1219.9290147496015,\n",
       "  'min_data_in_leaf': 873.0480733096188,\n",
       "  'num_leaves': 2074.997747323033}}"
      ]
     },
     "execution_count": 15,
     "metadata": {},
     "output_type": "execute_result"
    }
   ],
   "source": [
    "lgbBO.res[0]"
   ]
  },
  {
   "cell_type": "markdown",
   "metadata": {
    "ExecuteTime": {
     "end_time": "2019-04-22T16:00:34.543998Z",
     "start_time": "2019-04-22T16:00:34.541641Z"
    }
   },
   "source": [
    "## Loading progress"
   ]
  },
  {
   "cell_type": "markdown",
   "metadata": {},
   "source": [
    "It is wonderful! Really! You can learn you optimizer, collect some points, then you can correct something (bounds, for example, if you understand, that some values are not interesting for you. There is no point to start from beginning, you can just use previous result)\n",
    "May be we can change data just a little bit, and continue to search for best parameters."
   ]
  },
  {
   "cell_type": "code",
   "execution_count": 16,
   "metadata": {
    "ExecuteTime": {
     "end_time": "2019-04-22T15:59:18.664926Z",
     "start_time": "2019-04-22T15:59:18.661261Z"
    }
   },
   "outputs": [],
   "source": [
    "from bayes_opt.logger import JSONLogger\n",
    "from bayes_opt.event import Events\n",
    "\n",
    "logger = JSONLogger(path=\"./logs.json\")\n",
    "lgbBO.subscribe(Events.OPTMIZATION_STEP, logger)"
   ]
  },
  {
   "cell_type": "code",
   "execution_count": 17,
   "metadata": {
    "ExecuteTime": {
     "end_time": "2019-04-22T16:02:51.606123Z",
     "start_time": "2019-04-22T16:00:48.674847Z"
    }
   },
   "outputs": [
    {
     "name": "stdout",
     "output_type": "stream",
     "text": [
      "|   iter    |  target   | lambda_l1 | lambda_l2 | max_depth | min_ch... | min_da... | num_le... |\n",
      "-------------------------------------------------------------------------------------------------\n",
      "| \u001b[0m 13      \u001b[0m | \u001b[0m 0.7462  \u001b[0m | \u001b[0m 0.04216 \u001b[0m | \u001b[0m 0.02283 \u001b[0m | \u001b[0m 18.87   \u001b[0m | \u001b[0m 7.272e+0\u001b[0m | \u001b[0m 1.68e+03\u001b[0m | \u001b[0m 3.798e+0\u001b[0m |\n",
      "| \u001b[0m 14      \u001b[0m | \u001b[0m 0.7465  \u001b[0m | \u001b[0m 0.01389 \u001b[0m | \u001b[0m 0.03158 \u001b[0m | \u001b[0m 12.08   \u001b[0m | \u001b[0m 241.5   \u001b[0m | \u001b[0m 1.739e+0\u001b[0m | \u001b[0m 2.871e+0\u001b[0m |\n",
      "| \u001b[0m 15      \u001b[0m | \u001b[0m 0.7455  \u001b[0m | \u001b[0m 0.001313\u001b[0m | \u001b[0m 0.02852 \u001b[0m | \u001b[0m 9.068   \u001b[0m | \u001b[0m 5.419e+0\u001b[0m | \u001b[0m 1.815e+0\u001b[0m | \u001b[0m 2.155e+0\u001b[0m |\n",
      "| \u001b[0m 16      \u001b[0m | \u001b[0m 0.7458  \u001b[0m | \u001b[0m 0.02807 \u001b[0m | \u001b[0m 0.04261 \u001b[0m | \u001b[0m 10.66   \u001b[0m | \u001b[0m 9.921e+0\u001b[0m | \u001b[0m 1.985e+0\u001b[0m | \u001b[0m 56.49   \u001b[0m |\n",
      "| \u001b[0m 17      \u001b[0m | \u001b[0m 0.7455  \u001b[0m | \u001b[0m 0.006499\u001b[0m | \u001b[0m 0.02464 \u001b[0m | \u001b[0m 61.1    \u001b[0m | \u001b[0m 2.256e+0\u001b[0m | \u001b[0m 1.998e+0\u001b[0m | \u001b[0m 1.323e+0\u001b[0m |\n",
      "| \u001b[0m 18      \u001b[0m | \u001b[0m 0.7456  \u001b[0m | \u001b[0m 0.0276  \u001b[0m | \u001b[0m 0.04409 \u001b[0m | \u001b[0m 61.44   \u001b[0m | \u001b[0m 123.2   \u001b[0m | \u001b[0m 1.987e+0\u001b[0m | \u001b[0m 1.493e+0\u001b[0m |\n",
      "| \u001b[0m 19      \u001b[0m | \u001b[0m 0.7451  \u001b[0m | \u001b[0m 0.01176 \u001b[0m | \u001b[0m 0.01323 \u001b[0m | \u001b[0m 7.77    \u001b[0m | \u001b[0m 9.977e+0\u001b[0m | \u001b[0m 1.994e+0\u001b[0m | \u001b[0m 2.234e+0\u001b[0m |\n",
      "| \u001b[0m 20      \u001b[0m | \u001b[0m 0.7454  \u001b[0m | \u001b[0m 0.04909 \u001b[0m | \u001b[0m 0.002927\u001b[0m | \u001b[0m 56.47   \u001b[0m | \u001b[0m 2.082e+0\u001b[0m | \u001b[0m 1.993e+0\u001b[0m | \u001b[0m 3.721e+0\u001b[0m |\n",
      "| \u001b[0m 21      \u001b[0m | \u001b[0m 0.7454  \u001b[0m | \u001b[0m 0.02177 \u001b[0m | \u001b[0m 0.01517 \u001b[0m | \u001b[0m 62.62   \u001b[0m | \u001b[0m 6.03e+03\u001b[0m | \u001b[0m 1.988e+0\u001b[0m | \u001b[0m 3.611e+0\u001b[0m |\n",
      "| \u001b[0m 22      \u001b[0m | \u001b[0m 0.7457  \u001b[0m | \u001b[0m 0.000413\u001b[0m | \u001b[0m 0.0313  \u001b[0m | \u001b[0m 19.41   \u001b[0m | \u001b[0m 3.349e+0\u001b[0m | \u001b[0m 1.992e+0\u001b[0m | \u001b[0m 25.84   \u001b[0m |\n",
      "| \u001b[0m 23      \u001b[0m | \u001b[0m 0.7457  \u001b[0m | \u001b[0m 0.000114\u001b[0m | \u001b[0m 0.02333 \u001b[0m | \u001b[0m 10.55   \u001b[0m | \u001b[0m 8.431e+0\u001b[0m | \u001b[0m 2e+03   \u001b[0m | \u001b[0m 178.1   \u001b[0m |\n",
      "| \u001b[0m 24      \u001b[0m | \u001b[0m 0.7446  \u001b[0m | \u001b[0m 0.02112 \u001b[0m | \u001b[0m 0.02283 \u001b[0m | \u001b[0m 6.57    \u001b[0m | \u001b[0m 223.5   \u001b[0m | \u001b[0m 1.983e+0\u001b[0m | \u001b[0m 2.535e+0\u001b[0m |\n",
      "| \u001b[0m 25      \u001b[0m | \u001b[0m 0.7453  \u001b[0m | \u001b[0m 0.03864 \u001b[0m | \u001b[0m 0.006976\u001b[0m | \u001b[0m 60.59   \u001b[0m | \u001b[0m 4.055e+0\u001b[0m | \u001b[0m 1.99e+03\u001b[0m | \u001b[0m 2.331e+0\u001b[0m |\n",
      "=================================================================================================\n"
     ]
    }
   ],
   "source": [
    "lgbBO.maximize(n_iter=10, init_points=3)"
   ]
  },
  {
   "cell_type": "markdown",
   "metadata": {},
   "source": [
    "Now we can read it for another optimizer"
   ]
  },
  {
   "cell_type": "code",
   "execution_count": 18,
   "metadata": {
    "ExecuteTime": {
     "end_time": "2019-04-22T16:09:14.023961Z",
     "start_time": "2019-04-22T16:09:14.019324Z"
    }
   },
   "outputs": [],
   "source": [
    "new_opt = BayesianOptimization(lgb_eval, {'num_leaves': (25, 100),\n",
    "                                                'max_depth': (5, 63),\n",
    "                                                'lambda_l2': (0.0, 0.05),\n",
    "                                                'lambda_l1': (0.0, 0.05),\n",
    "                                                'min_child_samples': (50, 100),\n",
    "                                                'min_data_in_leaf': (50, 200)\n",
    "                                                })"
   ]
  },
  {
   "cell_type": "code",
   "execution_count": 19,
   "metadata": {
    "ExecuteTime": {
     "end_time": "2019-04-22T16:09:20.166870Z",
     "start_time": "2019-04-22T16:09:20.162928Z"
    }
   },
   "outputs": [],
   "source": [
    "from bayes_opt.util import load_logs\n",
    "\n",
    "load_logs(new_opt, logs=[\"./logs.json\"]);"
   ]
  },
  {
   "cell_type": "code",
   "execution_count": 20,
   "metadata": {
    "ExecuteTime": {
     "end_time": "2019-04-22T16:10:42.213539Z",
     "start_time": "2019-04-22T16:09:37.681604Z"
    }
   },
   "outputs": [
    {
     "name": "stdout",
     "output_type": "stream",
     "text": [
      "|   iter    |  target   | lambda_l1 | lambda_l2 | max_depth | min_ch... | min_da... | num_le... |\n",
      "-------------------------------------------------------------------------------------------------\n",
      "| \u001b[0m 1       \u001b[0m | \u001b[0m 0.7174  \u001b[0m | \u001b[0m 0.01712 \u001b[0m | \u001b[0m 0.03644 \u001b[0m | \u001b[0m 6.972   \u001b[0m | \u001b[0m 82.28   \u001b[0m | \u001b[0m 185.3   \u001b[0m | \u001b[0m 66.29   \u001b[0m |\n",
      "| \u001b[0m 2       \u001b[0m | \u001b[0m 0.7165  \u001b[0m | \u001b[0m 0.03837 \u001b[0m | \u001b[0m 0.02931 \u001b[0m | \u001b[0m 61.46   \u001b[0m | \u001b[0m 94.69   \u001b[0m | \u001b[0m 199.9   \u001b[0m | \u001b[0m 99.72   \u001b[0m |\n",
      "| \u001b[0m 3       \u001b[0m | \u001b[0m 0.7177  \u001b[0m | \u001b[0m 0.02965 \u001b[0m | \u001b[0m 0.02506 \u001b[0m | \u001b[0m 5.49    \u001b[0m | \u001b[0m 99.81   \u001b[0m | \u001b[0m 198.5   \u001b[0m | \u001b[0m 97.95   \u001b[0m |\n",
      "| \u001b[0m 4       \u001b[0m | \u001b[0m 0.7178  \u001b[0m | \u001b[0m 0.02404 \u001b[0m | \u001b[0m 0.02519 \u001b[0m | \u001b[0m 5.61    \u001b[0m | \u001b[0m 88.52   \u001b[0m | \u001b[0m 197.9   \u001b[0m | \u001b[0m 98.57   \u001b[0m |\n",
      "| \u001b[0m 5       \u001b[0m | \u001b[0m 0.7174  \u001b[0m | \u001b[0m 0.03907 \u001b[0m | \u001b[0m 0.04168 \u001b[0m | \u001b[0m 5.016   \u001b[0m | \u001b[0m 97.89   \u001b[0m | \u001b[0m 199.3   \u001b[0m | \u001b[0m 91.32   \u001b[0m |\n",
      "| \u001b[0m 6       \u001b[0m | \u001b[0m 0.7175  \u001b[0m | \u001b[0m 0.007355\u001b[0m | \u001b[0m 0.02331 \u001b[0m | \u001b[0m 5.033   \u001b[0m | \u001b[0m 97.43   \u001b[0m | \u001b[0m 199.2   \u001b[0m | \u001b[0m 93.25   \u001b[0m |\n",
      "=================================================================================================\n"
     ]
    }
   ],
   "source": [
    "new_opt.maximize(n_iter=5, init_points=1)"
   ]
  },
  {
   "cell_type": "code",
   "execution_count": 21,
   "metadata": {
    "ExecuteTime": {
     "end_time": "2019-04-22T16:10:42.297905Z",
     "start_time": "2019-04-22T16:10:42.293373Z"
    }
   },
   "outputs": [
    {
     "data": {
      "text/plain": [
       "{'target': 0.7464723999907198,\n",
       " 'params': {'lambda_l1': 0.013888878564793185,\n",
       "  'lambda_l2': 0.03157713050090246,\n",
       "  'max_depth': 12.076290564328213,\n",
       "  'min_child_samples': 241.5320237877821,\n",
       "  'min_data_in_leaf': 1738.5442220037476,\n",
       "  'num_leaves': 2870.6031128571854}}"
      ]
     },
     "execution_count": 21,
     "metadata": {},
     "output_type": "execute_result"
    }
   ],
   "source": [
    "new_opt.max"
   ]
  },
  {
   "cell_type": "markdown",
   "metadata": {},
   "source": [
    "As you can see this is point from the previous run"
   ]
  },
  {
   "cell_type": "markdown",
   "metadata": {
    "ExecuteTime": {
     "end_time": "2019-04-22T16:13:40.673208Z",
     "start_time": "2019-04-22T16:13:40.670863Z"
    }
   },
   "source": [
    "## Try certain points"
   ]
  },
  {
   "cell_type": "markdown",
   "metadata": {
    "ExecuteTime": {
     "end_time": "2019-04-22T16:17:16.330900Z",
     "start_time": "2019-04-22T16:17:16.327274Z"
    }
   },
   "source": [
    "We can choose the certain point ant try the result. "
   ]
  },
  {
   "cell_type": "code",
   "execution_count": 22,
   "metadata": {
    "ExecuteTime": {
     "end_time": "2019-04-22T16:17:21.560120Z",
     "start_time": "2019-04-22T16:17:21.557016Z"
    }
   },
   "outputs": [],
   "source": [
    "new_opt.probe({'num_leaves': 10,\n",
    "                'max_depth': 100,\n",
    "                'lambda_l2': 1,\n",
    "                'lambda_l1': 1,\n",
    "                'min_child_samples': 300,\n",
    "                'min_data_in_leaf': 1000 })\n",
    "\n",
    "new_opt.probe({'num_leaves': 55,\n",
    "                'max_depth': 400,\n",
    "                'lambda_l2': 5,\n",
    "                'lambda_l1': 5,\n",
    "                'min_child_samples': 100,\n",
    "                'min_data_in_leaf': 10 })"
   ]
  },
  {
   "cell_type": "code",
   "execution_count": 23,
   "metadata": {
    "ExecuteTime": {
     "end_time": "2019-04-22T16:17:26.478487Z",
     "start_time": "2019-04-22T16:17:22.164709Z"
    }
   },
   "outputs": [
    {
     "name": "stdout",
     "output_type": "stream",
     "text": [
      "|   iter    |  target   | lambda_l1 | lambda_l2 | max_depth | min_ch... | min_da... | num_le... |\n",
      "-------------------------------------------------------------------------------------------------\n",
      "| \u001b[0m 7       \u001b[0m | \u001b[0m 0.7301  \u001b[0m | \u001b[0m 1.0     \u001b[0m | \u001b[0m 1.0     \u001b[0m | \u001b[0m 100.0   \u001b[0m | \u001b[0m 300.0   \u001b[0m | \u001b[0m 1e+03   \u001b[0m | \u001b[0m 10.0    \u001b[0m |\n",
      "| \u001b[0m 8       \u001b[0m | \u001b[0m 0.7149  \u001b[0m | \u001b[0m 5.0     \u001b[0m | \u001b[0m 5.0     \u001b[0m | \u001b[0m 400.0   \u001b[0m | \u001b[0m 100.0   \u001b[0m | \u001b[0m 10.0    \u001b[0m | \u001b[0m 55.0    \u001b[0m |\n",
      "=================================================================================================\n"
     ]
    }
   ],
   "source": [
    "new_opt.maximize(n_iter=0, init_points=0)"
   ]
  },
  {
   "cell_type": "markdown",
   "metadata": {},
   "source": [
    "### CatBoost"
   ]
  },
  {
   "cell_type": "markdown",
   "metadata": {},
   "source": [
    "Let's try another model for test"
   ]
  },
  {
   "cell_type": "code",
   "execution_count": 24,
   "metadata": {
    "ExecuteTime": {
     "end_time": "2019-04-22T16:54:35.220722Z",
     "start_time": "2019-04-22T16:54:35.214916Z"
    }
   },
   "outputs": [],
   "source": [
    "def cat_eval(num_leaves,max_depth,bagging_temperature, l2_leaf_reg):\n",
    "    params = {'bagging_temperature': bagging_temperature,\n",
    "              'num_leaves': int(num_leaves),\n",
    "              'max_depth': int(max_depth),\n",
    "              'l2_leaf_reg': l2_leaf_reg,\n",
    "              'iterations': 500,\n",
    "              'learning_rate':0.1,\n",
    "              'early_stopping_rounds':100,\n",
    "              'eval_metric': \"AUC\",\n",
    "              'verbose': False}\n",
    "    cv_dataset = Pool(data=X_train,\n",
    "                  label=y_train,\n",
    "                  cat_features=categorical_features)\n",
    "    scores = cv(cv_dataset,\n",
    "            params,\n",
    "            fold_count=3)\n",
    "    return scores['test-AUC-mean'].max()"
   ]
  },
  {
   "cell_type": "code",
   "execution_count": 25,
   "metadata": {
    "ExecuteTime": {
     "end_time": "2019-04-22T16:59:18.768089Z",
     "start_time": "2019-04-22T16:59:18.764007Z"
    }
   },
   "outputs": [],
   "source": [
    "cat_opt = BayesianOptimization(cat_eval, {'num_leaves': (25, 100),\n",
    "                                          'max_depth': (5, 15),\n",
    "                                          'bagging_temperature': (0.1, 0.9),\n",
    "                                          'l2_leaf_reg': (2,5)\n",
    "                                        })"
   ]
  },
  {
   "cell_type": "code",
   "execution_count": 26,
   "metadata": {
    "ExecuteTime": {
     "start_time": "2019-04-22T16:59:20.583Z"
    }
   },
   "outputs": [
    {
     "name": "stdout",
     "output_type": "stream",
     "text": [
      "|   iter    |  target   | baggin... | l2_lea... | max_depth | num_le... |\n",
      "-------------------------------------------------------------------------\n",
      "| \u001b[0m 1       \u001b[0m | \u001b[0m 0.7533  \u001b[0m | \u001b[0m 0.2264  \u001b[0m | \u001b[0m 2.235   \u001b[0m | \u001b[0m 6.151   \u001b[0m | \u001b[0m 34.84   \u001b[0m |\n",
      "| \u001b[0m 2       \u001b[0m | \u001b[0m 0.7488  \u001b[0m | \u001b[0m 0.4136  \u001b[0m | \u001b[0m 4.38    \u001b[0m | \u001b[0m 10.55   \u001b[0m | \u001b[0m 63.16   \u001b[0m |\n",
      "| \u001b[0m 3       \u001b[0m | \u001b[0m 0.7329  \u001b[0m | \u001b[0m 0.3405  \u001b[0m | \u001b[0m 4.969   \u001b[0m | \u001b[0m 15.0    \u001b[0m | \u001b[0m 25.16   \u001b[0m |\n",
      "| \u001b[0m 4       \u001b[0m | \u001b[0m 0.7485  \u001b[0m | \u001b[0m 0.7435  \u001b[0m | \u001b[0m 2.091   \u001b[0m | \u001b[0m 5.035   \u001b[0m | \u001b[0m 99.69   \u001b[0m |\n",
      "| \u001b[0m 5       \u001b[0m | \u001b[0m 0.7479  \u001b[0m | \u001b[0m 0.8444  \u001b[0m | \u001b[0m 4.962   \u001b[0m | \u001b[0m 5.01    \u001b[0m | \u001b[0m 47.41   \u001b[0m |\n",
      "| \u001b[0m 6       \u001b[0m | \u001b[0m 0.7503  \u001b[0m | \u001b[0m 0.1     \u001b[0m | \u001b[0m 2.0     \u001b[0m | \u001b[0m 5.0     \u001b[0m | \u001b[0m 65.7    \u001b[0m |\n",
      "| \u001b[0m 7       \u001b[0m | \u001b[0m 0.7314  \u001b[0m | \u001b[0m 0.3017  \u001b[0m | \u001b[0m 2.093   \u001b[0m | \u001b[0m 14.91   \u001b[0m | \u001b[0m 99.96   \u001b[0m |\n",
      "=========================================================================\n"
     ]
    }
   ],
   "source": [
    "cat_opt.maximize(n_iter=5, init_points=2)"
   ]
  },
  {
   "cell_type": "markdown",
   "metadata": {
    "ExecuteTime": {
     "end_time": "2019-04-22T16:44:56.138694Z",
     "start_time": "2019-04-22T16:44:56.136665Z"
    }
   },
   "source": [
    "## Сonclusion"
   ]
  },
  {
   "cell_type": "markdown",
   "metadata": {},
   "source": [
    "This library shows perfect results, and it is much effective then rendom search or CV gread, as you don't need to try every point."
   ]
  },
  {
   "cell_type": "markdown",
   "metadata": {
    "ExecuteTime": {
     "end_time": "2019-04-22T16:44:56.215810Z",
     "start_time": "2019-04-22T16:44:56.212760Z"
    }
   },
   "source": [
    "Thanks for your attention!"
   ]
  },
  {
   "cell_type": "markdown",
   "metadata": {},
   "source": [
    "<img src='https://sites.google.com/site/bayesforvietnam/_/rsrc/1465811460099/home/Bayes%201.jpg'/>"
   ]
  }
 ],
 "metadata": {
  "kernelspec": {
   "display_name": "Python 3",
   "language": "python",
   "name": "python3"
  },
  "language_info": {
   "codemirror_mode": {
    "name": "ipython",
    "version": 3
   },
   "file_extension": ".py",
   "mimetype": "text/x-python",
   "name": "python",
   "nbconvert_exporter": "python",
   "pygments_lexer": "ipython3",
   "version": "3.7.1"
  },
  "varInspector": {
   "cols": {
    "lenName": 16,
    "lenType": 16,
    "lenVar": 40
   },
   "kernels_config": {
    "python": {
     "delete_cmd_postfix": "",
     "delete_cmd_prefix": "del ",
     "library": "var_list.py",
     "varRefreshCmd": "print(var_dic_list())"
    },
    "r": {
     "delete_cmd_postfix": ") ",
     "delete_cmd_prefix": "rm(",
     "library": "var_list.r",
     "varRefreshCmd": "cat(var_dic_list()) "
    }
   },
   "types_to_exclude": [
    "module",
    "function",
    "builtin_function_or_method",
    "instance",
    "_Feature"
   ],
   "window_display": false
  }
 },
 "nbformat": 4,
 "nbformat_minor": 1
}
