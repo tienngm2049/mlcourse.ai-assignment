{
 "cells": [
  {
   "cell_type": "markdown",
   "metadata": {},
   "source": [
    "# Recommendation system based on PySpark"
   ]
  },
  {
   "cell_type": "markdown",
   "metadata": {},
   "source": [
    "In this tutorial I am going to demonstrate how Spark MLlib can be used for movie recommendation task.\n",
    "\n",
    "First, let me start from problem statement: goal of any recommendation system is to analyze how users interact with existing system and make some recommendation of what they can buy, listen or watch in the future so that we can make our users happier, and hopefully, increase profitability of system we develop.\n",
    "\n",
    "There are several approaches to this task due to [wiki](https://en.wikipedia.org/wiki/Recommender_system): \n",
    "* Collaborative filtering \n",
    "methods are based on collecting and analyzing a large amount of information on users’ behaviors, activities or preferences and predicting what users will like based on their similarity to other users. A key advantage of the collaborative filtering approach is that it does not rely on machine analyzable content and therefore it is capable of accurately recommending complex items such as movies without requiring an \"understanding\" of the item itself. Collaborative filtering is based on the assumption that people who agreed in the past will agree in the future, and that they will like similar kinds of items as they liked in the past.\n",
    "* Content-based filtering\n",
    "methods are based on a description of the item and a profile of the user’s preferences.\n",
    "In a content-based recommender system, keywords are used to describe the items and a user profile is built to indicate the type of item this user likes. In other words, these algorithms try to recommend items that are similar to those that a user liked in the past (or is examining in the present). In particular, various candidate items are compared with items previously rated by the user and the best-matching items are recommended.\n",
    "* Hybrid recommender systems\n",
    "which is combining collaborative filtering and content-based filtering could be more effective in some cases. Hybrid approaches can be implemented in several ways: by making content-based and collaborative-based predictions separately and then combining them; by adding content-based capabilities to a collaborative-based approach (and vice versa); or by unifying the approaches into one mode. "
   ]
  },
  {
   "cell_type": "markdown",
   "metadata": {},
   "source": [
    "In this work I will demonstrate how to use Collaborative Filtering approach using Spark MLlib. "
   ]
  },
  {
   "cell_type": "markdown",
   "metadata": {},
   "source": [
    "# Dataset"
   ]
  },
  {
   "cell_type": "markdown",
   "metadata": {},
   "source": [
    "In my case I would like to recommend movies to users, based on dataset provided by [Megogo](https://megogo.net/ru) and competition they hosted at [Kaggle](https://www.kaggle.com/c/megogochallenge). \n",
    "\n",
    "I've been participated in this competiton during mlcourse and took 10th place out of 42 teams there. "
   ]
  },
  {
   "cell_type": "code",
   "execution_count": 1,
   "metadata": {
    "_cell_guid": "b1076dfc-b9ad-4769-8c92-a6c4dae69d19",
    "_uuid": "8f2839f25d086af736a60e9eeb907d3b93b6e0e5"
   },
   "outputs": [
    {
     "name": "stdout",
     "output_type": "stream",
     "text": [
      "env: JOBLIB_TEMP_FOLDER=/tmp\n"
     ]
    }
   ],
   "source": [
    "import numpy as np # linear algebra\n",
    "import pandas as pd # data processing, CSV file I/O (e.g. pd.read_csv)\n",
    "import os\n",
    "import gc\n",
    "\n",
    "%env JOBLIB_TEMP_FOLDER=/tmp \n",
    "#https://www.kaggle.com/getting-started/45288 - this helps some with 'no space left on device'\n",
    "\n",
    "#print(os.listdir(\"../input/megogochallenge/\"))"
   ]
  },
  {
   "cell_type": "markdown",
   "metadata": {},
   "source": [
    "Displaying data so that you could undesrtand how it looks like: "
   ]
  },
  {
   "cell_type": "code",
   "execution_count": 2,
   "metadata": {
    "_cell_guid": "79c7e3d0-c299-4dcb-8224-4455121ee9b0",
    "_uuid": "d629ff2d2480ee46fbb7e2d37f6b5fab8052498a"
   },
   "outputs": [
    {
     "data": {
      "text/html": [
       "<div>\n",
       "<style scoped>\n",
       "    .dataframe tbody tr th:only-of-type {\n",
       "        vertical-align: middle;\n",
       "    }\n",
       "\n",
       "    .dataframe tbody tr th {\n",
       "        vertical-align: top;\n",
       "    }\n",
       "\n",
       "    .dataframe thead th {\n",
       "        text-align: right;\n",
       "    }\n",
       "</style>\n",
       "<table border=\"1\" class=\"dataframe\">\n",
       "  <thead>\n",
       "    <tr style=\"text-align: right;\">\n",
       "      <th></th>\n",
       "      <th>session_start_datetime</th>\n",
       "      <th>user_id</th>\n",
       "      <th>user_ip</th>\n",
       "      <th>primary_video_id</th>\n",
       "      <th>video_id</th>\n",
       "      <th>vod_type</th>\n",
       "      <th>session_duration</th>\n",
       "      <th>device_type</th>\n",
       "      <th>device_os</th>\n",
       "      <th>player_position_min</th>\n",
       "      <th>player_position_max</th>\n",
       "      <th>time_cumsum_max</th>\n",
       "      <th>video_duration</th>\n",
       "      <th>watching_percentage</th>\n",
       "    </tr>\n",
       "  </thead>\n",
       "  <tbody>\n",
       "    <tr>\n",
       "      <th>0</th>\n",
       "      <td>2018-07-01 00:00:02.135</td>\n",
       "      <td>21603820</td>\n",
       "      <td>27241033</td>\n",
       "      <td>9583642</td>\n",
       "      <td>9583642</td>\n",
       "      <td>svod</td>\n",
       "      <td>688</td>\n",
       "      <td>web</td>\n",
       "      <td>Windows_10</td>\n",
       "      <td>6940</td>\n",
       "      <td>6940</td>\n",
       "      <td>93</td>\n",
       "      <td>8198</td>\n",
       "      <td>0.0839</td>\n",
       "    </tr>\n",
       "    <tr>\n",
       "      <th>1</th>\n",
       "      <td>2018-07-01 00:00:02.232</td>\n",
       "      <td>35636970</td>\n",
       "      <td>10887511</td>\n",
       "      <td>24645936</td>\n",
       "      <td>24645936</td>\n",
       "      <td>advod</td>\n",
       "      <td>3174</td>\n",
       "      <td>mobile</td>\n",
       "      <td>android</td>\n",
       "      <td>599</td>\n",
       "      <td>3173</td>\n",
       "      <td>0</td>\n",
       "      <td>5297</td>\n",
       "      <td>0.5990</td>\n",
       "    </tr>\n",
       "    <tr>\n",
       "      <th>2</th>\n",
       "      <td>2018-07-01 00:00:06.961</td>\n",
       "      <td>78312976</td>\n",
       "      <td>15427448</td>\n",
       "      <td>25397362</td>\n",
       "      <td>23346676</td>\n",
       "      <td>advod</td>\n",
       "      <td>3054</td>\n",
       "      <td>tv</td>\n",
       "      <td>samsung</td>\n",
       "      <td>599</td>\n",
       "      <td>3052</td>\n",
       "      <td>3032</td>\n",
       "      <td>3052</td>\n",
       "      <td>1.0000</td>\n",
       "    </tr>\n",
       "    <tr>\n",
       "      <th>3</th>\n",
       "      <td>2018-07-01 00:00:11.044</td>\n",
       "      <td>122261599</td>\n",
       "      <td>12021384</td>\n",
       "      <td>5205267</td>\n",
       "      <td>22898606</td>\n",
       "      <td>svod</td>\n",
       "      <td>2400</td>\n",
       "      <td>tv</td>\n",
       "      <td>netcast</td>\n",
       "      <td>600</td>\n",
       "      <td>2400</td>\n",
       "      <td>2378</td>\n",
       "      <td>2638</td>\n",
       "      <td>0.9100</td>\n",
       "    </tr>\n",
       "    <tr>\n",
       "      <th>4</th>\n",
       "      <td>2018-07-01 00:00:14.054</td>\n",
       "      <td>53477088</td>\n",
       "      <td>65858458</td>\n",
       "      <td>14098190</td>\n",
       "      <td>14098190</td>\n",
       "      <td>advod</td>\n",
       "      <td>2481</td>\n",
       "      <td>tv</td>\n",
       "      <td>webos</td>\n",
       "      <td>137</td>\n",
       "      <td>4849</td>\n",
       "      <td>2316</td>\n",
       "      <td>5115</td>\n",
       "      <td>0.4850</td>\n",
       "    </tr>\n",
       "  </tbody>\n",
       "</table>\n",
       "</div>"
      ],
      "text/plain": [
       "    session_start_datetime         ...           watching_percentage\n",
       "0  2018-07-01 00:00:02.135         ...                        0.0839\n",
       "1  2018-07-01 00:00:02.232         ...                        0.5990\n",
       "2  2018-07-01 00:00:06.961         ...                        1.0000\n",
       "3  2018-07-01 00:00:11.044         ...                        0.9100\n",
       "4  2018-07-01 00:00:14.054         ...                        0.4850\n",
       "\n",
       "[5 rows x 14 columns]"
      ]
     },
     "execution_count": 2,
     "metadata": {},
     "output_type": "execute_result"
    }
   ],
   "source": [
    "full_df = pd.read_csv('../input/megogochallenge/train_data_full.csv')\n",
    "full_df.head()"
   ]
  },
  {
   "cell_type": "markdown",
   "metadata": {},
   "source": [
    "It's very important not only to recommend movies that user would like to watch. But to recommend movies which user will watch more than on half. It could be observed in `watching_percentage` column. \n",
    "\n",
    "Actually it was a goal of competition (to predict movies that will be watched more than on half). "
   ]
  },
  {
   "cell_type": "code",
   "execution_count": 3,
   "metadata": {},
   "outputs": [
    {
     "data": {
      "text/plain": [
       "<matplotlib.axes._subplots.AxesSubplot at 0x7feb0bd584a8>"
      ]
     },
     "execution_count": 3,
     "metadata": {},
     "output_type": "execute_result"
    },
    {
     "data": {
      "image/png": "[encoded data removed]",
      "text/plain": [
       "<Figure size 432x288 with 1 Axes>"
      ]
     },
     "metadata": {},
     "output_type": "display_data"
    }
   ],
   "source": [
    "full_df['watching_percentage'].hist()"
   ]
  },
  {
   "cell_type": "markdown",
   "metadata": {},
   "source": [
    "We see that most movies are watched till the end."
   ]
  },
  {
   "cell_type": "markdown",
   "metadata": {},
   "source": [
    "## Metric"
   ]
  },
  {
   "cell_type": "markdown",
   "metadata": {},
   "source": [
    "As evaluation metric MAP@10 is used for competiton - it's variations is very common metric for any recommendation tasks. More about it you could read [here](http://sdsawtelle.github.io/blog/output/mean-average-precision-MAP-for-recommender-systems.html).\n",
    "\n",
    "But in this tutorial I'll use RMSE, which is easier to understand for everyone."
   ]
  },
  {
   "cell_type": "markdown",
   "metadata": {},
   "source": [
    "# PySpark implementation"
   ]
  },
  {
   "cell_type": "markdown",
   "metadata": {},
   "source": [
    "Finally, let's move to PySpark. \n",
    "There is 2 ways to install it in Kaggle Kernels: \n",
    "* Run magic command, as in cell below\n",
    "* Or go to Packages and enter pyspark (it will take some time, but this will form your own version of docker and you'll no need to waste time while running next versions of kernel)"
   ]
  },
  {
   "cell_type": "code",
   "execution_count": 4,
   "metadata": {},
   "outputs": [
    {
     "name": "stdout",
     "output_type": "stream",
     "text": [
      "Requirement already satisfied: pyspark in /opt/conda/lib/python3.6/site-packages (2.4.2)\r\n",
      "Requirement already satisfied: py4j==0.10.7 in /opt/conda/lib/python3.6/site-packages (from pyspark) (0.10.7)\r\n"
     ]
    }
   ],
   "source": [
    "!pip install pyspark"
   ]
  },
  {
   "cell_type": "markdown",
   "metadata": {},
   "source": [
    "To install it locally or at jupyter server follow [this](https://medium.freecodecamp.org/how-to-set-up-pyspark-for-your-jupyter-notebook-7399dd3cb389) instruction. \n",
    "\n",
    "First, you have to install Java and Scala. Then set enviroment variables to launch Spark with Python3 and finally install pyspark."
   ]
  },
  {
   "cell_type": "markdown",
   "metadata": {},
   "source": [
    "Now importing all needed spark modules. Pay attention how sc and spark variables were initialized. "
   ]
  },
  {
   "cell_type": "code",
   "execution_count": 5,
   "metadata": {},
   "outputs": [],
   "source": [
    "import pyspark.sql.functions as sql_func\n",
    "from pyspark.sql.types import *\n",
    "from pyspark.ml.recommendation import ALS, ALSModel\n",
    "from pyspark.context import SparkContext\n",
    "from pyspark.sql.session import SparkSession\n",
    "from pyspark.mllib.evaluation import RegressionMetrics, RankingMetrics\n",
    "from pyspark.ml.evaluation import RegressionEvaluator\n",
    "\n",
    "sc = SparkContext('local') #https://stackoverflow.com/questions/30763951/spark-context-sc-not-defined\n",
    "spark = SparkSession(sc)"
   ]
  },
  {
   "cell_type": "markdown",
   "metadata": {},
   "source": [
    "Let's read data in Spark format: "
   ]
  },
  {
   "cell_type": "code",
   "execution_count": 6,
   "metadata": {},
   "outputs": [],
   "source": [
    "data_schema = StructType([\n",
    "    StructField('session_start_datetime',TimestampType(), False),\n",
    "    StructField('user_id',IntegerType(), False),\n",
    "    StructField('user_ip',IntegerType(), False),\n",
    "    StructField('primary_video_id',IntegerType(), False),\n",
    "    StructField('video_id',IntegerType(), False),\n",
    "    StructField('vod_type',StringType(), False),\n",
    "    StructField('session_duration',IntegerType(), False),\n",
    "    StructField('device_type',StringType(), False),\n",
    "    StructField('device_os',StringType(), False),\n",
    "    StructField('player_position_min',LongType(), False),\n",
    "    StructField('player_position_max',LongType(), False),\n",
    "    StructField('time_cumsum_max',LongType(), False),\n",
    "    StructField('video_duration',IntegerType(), False),\n",
    "    StructField('watching_percentage',FloatType(), False)\n",
    "])\n",
    "final_stat = spark.read.csv(\n",
    "    '../input/megogochallenge/train_data_full.csv', header=True, schema=data_schema\n",
    ").cache()"
   ]
  },
  {
   "cell_type": "markdown",
   "metadata": {},
   "source": [
    "Let's prepare data for model: "
   ]
  },
  {
   "cell_type": "code",
   "execution_count": 7,
   "metadata": {},
   "outputs": [],
   "source": [
    "ratings = (final_stat\n",
    "    .select(\n",
    "        'user_id',\n",
    "        'primary_video_id',\n",
    "        'watching_percentage',\n",
    "    )\n",
    ").cache()"
   ]
  },
  {
   "cell_type": "markdown",
   "metadata": {},
   "source": [
    "Making a `train_test_split`: "
   ]
  },
  {
   "cell_type": "code",
   "execution_count": 8,
   "metadata": {},
   "outputs": [],
   "source": [
    "(training, test) = ratings.randomSplit([0.8, 0.2])"
   ]
  },
  {
   "cell_type": "markdown",
   "metadata": {},
   "source": [
    "[](http://)Finally build an [ALS](https://dl.acm.org/citation.cfm?id=1608614) model:"
   ]
  },
  {
   "cell_type": "code",
   "execution_count": 9,
   "metadata": {},
   "outputs": [
    {
     "name": "stdout",
     "output_type": "stream",
     "text": [
      "Root-mean-square error = 0.7092173090577979\n"
     ]
    }
   ],
   "source": [
    "# Build the recommendation model using ALS on the training data\n",
    "# Note we set cold start strategy to 'drop' to ensure we don't get NaN evaluation metrics\n",
    "als = ALS(maxIter=2, regParam=0.01, \n",
    "          userCol=\"user_id\", itemCol=\"primary_video_id\", ratingCol=\"watching_percentage\",\n",
    "          coldStartStrategy=\"drop\",\n",
    "          implicitPrefs=True)\n",
    "model = als.fit(training)\n",
    "\n",
    "# Evaluate the model by computing the RMSE on the test data\n",
    "predictions = model.transform(test)\n",
    "evaluator = RegressionEvaluator(metricName=\"rmse\", labelCol=\"watching_percentage\",\n",
    "                                predictionCol=\"prediction\")\n",
    "\n",
    "rmse = evaluator.evaluate(predictions)\n",
    "print(\"Root-mean-square error = \" + str(rmse))"
   ]
  },
  {
   "cell_type": "markdown",
   "metadata": {},
   "source": [
    "Let's take a look on parameters, and try to find any improvements. \n",
    "\n",
    "Parameters of ALS Model in PySpark realization are following: \n",
    "* **NumBlocks** is the number of blocks the users and items will be partitioned into in order to parallelize computation.\n",
    "* **rank** is the number of latent factors in the model.\n",
    "* **maxIter** is the maximum number of iterations to run.\n",
    "* **regParam** specifies the regularization parameter in ALS.\n",
    "* **implicitPrefs** specifies whether to use the explicit feedback ALS variant or one adapted for implicit feedback data (defaults to false which means using explicit feedback).\n",
    "* **alpha** is a parameter applicable to the implicit feedback variant of ALS that governs the baseline confidence in preference observations (defaults to 1.0)."
   ]
  },
  {
   "cell_type": "markdown",
   "metadata": {},
   "source": [
    "## Explicit or implicit? \n",
    "\n",
    "The standard approach to matrix factorization based collaborative filtering treats the entries in the user-item matrix as explicit preferences given by the user to the item, for example, users giving ratings to movies.\n",
    "\n",
    "As we see in our dataset we have a bunch of implicit information like `device_type`, `video_duration`, `device_os`. \n",
    "But let's try to use only explicit information and look on RMSE."
   ]
  },
  {
   "cell_type": "code",
   "execution_count": 10,
   "metadata": {},
   "outputs": [
    {
     "name": "stdout",
     "output_type": "stream",
     "text": [
      "Root-mean-square error = 0.42465506263708164\n"
     ]
    }
   ],
   "source": [
    "# Build the recommendation model using ALS on the training data\n",
    "# Note we set cold start strategy to 'drop' to ensure we don't get NaN evaluation metrics\n",
    "als = ALS(maxIter=2, regParam=0.01, \n",
    "          userCol=\"user_id\", itemCol=\"primary_video_id\", ratingCol=\"watching_percentage\",\n",
    "          coldStartStrategy=\"drop\",\n",
    "          implicitPrefs=False) #changed param!\n",
    "model = als.fit(training)\n",
    "\n",
    "# Evaluate the model by computing the RMSE on the test data\n",
    "predictions = model.transform(test)\n",
    "evaluator = RegressionEvaluator(metricName=\"rmse\", labelCol=\"watching_percentage\",\n",
    "                                predictionCol=\"prediction\")\n",
    "\n",
    "rmse = evaluator.evaluate(predictions)\n",
    "print(\"Root-mean-square error = \" + str(rmse))"
   ]
  },
  {
   "cell_type": "markdown",
   "metadata": {},
   "source": [
    "Wow! Our RMSE improved really well!\n",
    "But remember, if the rating matrix is derived from another source of information (i.e. it is inferred from other signals), you can set `implicitPrefs` to `True` to get better results. \n",
    "\n",
    "Could we do more? \n",
    "Let me increase `rank`, which is number of latent factor a bit. "
   ]
  },
  {
   "cell_type": "code",
   "execution_count": 11,
   "metadata": {},
   "outputs": [
    {
     "name": "stdout",
     "output_type": "stream",
     "text": [
      "Root-mean-square error = 0.400582274318481\n"
     ]
    }
   ],
   "source": [
    "# Build the recommendation model using ALS on the training data\n",
    "# Note we set cold start strategy to 'drop' to ensure we don't get NaN evaluation metrics\n",
    "als = ALS(rank=20, #10 was by default\n",
    "          maxIter=2, regParam=0.01,\n",
    "          userCol=\"user_id\", itemCol=\"primary_video_id\", ratingCol=\"watching_percentage\",\n",
    "          coldStartStrategy=\"drop\",\n",
    "          implicitPrefs=False)\n",
    "model = als.fit(training)\n",
    "\n",
    "# Evaluate the model by computing the RMSE on the test data\n",
    "predictions = model.transform(test)\n",
    "evaluator = RegressionEvaluator(metricName=\"rmse\", labelCol=\"watching_percentage\",\n",
    "                                predictionCol=\"prediction\")\n",
    "\n",
    "rmse = evaluator.evaluate(predictions)\n",
    "print(\"Root-mean-square error = \" + str(rmse))\n"
   ]
  },
  {
   "cell_type": "markdown",
   "metadata": {},
   "source": [
    "Great! Our score is improved a bit, but not dramatically. \n",
    "\n",
    "Here I should say that I am a bit limited by Kaggle Kernels resources (Spark use a lot of RAM!) and of course it's better to experiment with parameters locally.\n",
    "\n",
    "General recommendations: \n",
    "* increase `maxIter` and `rank` checking them on CV of course (may be time and RAM consuming). \n",
    "* don't forget about regularization parametr\n",
    "\n",
    "Okay, now I want to output the recommendations itself."
   ]
  },
  {
   "cell_type": "code",
   "execution_count": 12,
   "metadata": {},
   "outputs": [
    {
     "name": "stdout",
     "output_type": "stream",
     "text": [
      "CPU times: user 188 ms, sys: 100 ms, total: 288 ms\n",
      "Wall time: 8min 44s\n"
     ]
    }
   ],
   "source": [
    "%%time\n",
    "# Generate top 10 movie recommendations for each user\n",
    "userRecs = model.recommendForAllUsers(10)\n",
    "userRecs.count()\n",
    "# Generate top 10 user recommendations for each movie\n",
    "movieRecs = model.recommendForAllItems(10)\n",
    "movieRecs.count()"
   ]
  },
  {
   "cell_type": "markdown",
   "metadata": {},
   "source": [
    "Converting Spark data to well-known Pandas could be done easily with `toPandas()` method: "
   ]
  },
  {
   "cell_type": "code",
   "execution_count": 13,
   "metadata": {},
   "outputs": [
    {
     "name": "stdout",
     "output_type": "stream",
     "text": [
      "(401553, 2)\n",
      "(7220, 2)\n"
     ]
    }
   ],
   "source": [
    "userRecs_df = userRecs.toPandas()\n",
    "print(userRecs_df.shape)\n",
    "\n",
    "movieRecs_df = movieRecs.toPandas()\n",
    "print(movieRecs_df.shape)"
   ]
  },
  {
   "cell_type": "code",
   "execution_count": 14,
   "metadata": {},
   "outputs": [
    {
     "data": {
      "text/html": [
       "<div>\n",
       "<style scoped>\n",
       "    .dataframe tbody tr th:only-of-type {\n",
       "        vertical-align: middle;\n",
       "    }\n",
       "\n",
       "    .dataframe tbody tr th {\n",
       "        vertical-align: top;\n",
       "    }\n",
       "\n",
       "    .dataframe thead th {\n",
       "        text-align: right;\n",
       "    }\n",
       "</style>\n",
       "<table border=\"1\" class=\"dataframe\">\n",
       "  <thead>\n",
       "    <tr style=\"text-align: right;\">\n",
       "      <th></th>\n",
       "      <th>user_id</th>\n",
       "      <th>recommendations</th>\n",
       "    </tr>\n",
       "  </thead>\n",
       "  <tbody>\n",
       "    <tr>\n",
       "      <th>0</th>\n",
       "      <td>7340</td>\n",
       "      <td>[(27987803, 2.907897472381592), (28900883, 2.5...</td>\n",
       "    </tr>\n",
       "    <tr>\n",
       "      <th>1</th>\n",
       "      <td>28577</td>\n",
       "      <td>[(15729968, 2.7276458740234375), (18544535, 2....</td>\n",
       "    </tr>\n",
       "    <tr>\n",
       "      <th>2</th>\n",
       "      <td>38723</td>\n",
       "      <td>[(19875588, 2.8586254119873047), (24694479, 2....</td>\n",
       "    </tr>\n",
       "    <tr>\n",
       "      <th>3</th>\n",
       "      <td>119432</td>\n",
       "      <td>[(13028255, 2.3740458488464355), (13071722, 2....</td>\n",
       "    </tr>\n",
       "    <tr>\n",
       "      <th>4</th>\n",
       "      <td>188122</td>\n",
       "      <td>[(32614008, 3.399120807647705), (10108953, 3.2...</td>\n",
       "    </tr>\n",
       "  </tbody>\n",
       "</table>\n",
       "</div>"
      ],
      "text/plain": [
       "   user_id                                    recommendations\n",
       "0     7340  [(27987803, 2.907897472381592), (28900883, 2.5...\n",
       "1    28577  [(15729968, 2.7276458740234375), (18544535, 2....\n",
       "2    38723  [(19875588, 2.8586254119873047), (24694479, 2....\n",
       "3   119432  [(13028255, 2.3740458488464355), (13071722, 2....\n",
       "4   188122  [(32614008, 3.399120807647705), (10108953, 3.2..."
      ]
     },
     "execution_count": 14,
     "metadata": {},
     "output_type": "execute_result"
    }
   ],
   "source": [
    "userRecs_df.head()"
   ]
  },
  {
   "cell_type": "markdown",
   "metadata": {},
   "source": [
    "Here we see movie recommendation and it's score by each user."
   ]
  },
  {
   "cell_type": "code",
   "execution_count": 15,
   "metadata": {},
   "outputs": [
    {
     "data": {
      "text/html": [
       "<div>\n",
       "<style scoped>\n",
       "    .dataframe tbody tr th:only-of-type {\n",
       "        vertical-align: middle;\n",
       "    }\n",
       "\n",
       "    .dataframe tbody tr th {\n",
       "        vertical-align: top;\n",
       "    }\n",
       "\n",
       "    .dataframe thead th {\n",
       "        text-align: right;\n",
       "    }\n",
       "</style>\n",
       "<table border=\"1\" class=\"dataframe\">\n",
       "  <thead>\n",
       "    <tr style=\"text-align: right;\">\n",
       "      <th></th>\n",
       "      <th>primary_video_id</th>\n",
       "      <th>recommendations</th>\n",
       "    </tr>\n",
       "  </thead>\n",
       "  <tbody>\n",
       "    <tr>\n",
       "      <th>0</th>\n",
       "      <td>2503270</td>\n",
       "      <td>[(50245367, 1.7377479076385498), (69026283, 1....</td>\n",
       "    </tr>\n",
       "    <tr>\n",
       "      <th>1</th>\n",
       "      <td>16598040</td>\n",
       "      <td>[(30700999, 3.5905983448028564), (90627429, 3....</td>\n",
       "    </tr>\n",
       "    <tr>\n",
       "      <th>2</th>\n",
       "      <td>26049640</td>\n",
       "      <td>[(46116994, 1.8512648344039917), (47528753, 1....</td>\n",
       "    </tr>\n",
       "    <tr>\n",
       "      <th>3</th>\n",
       "      <td>2801091</td>\n",
       "      <td>[(103819960, 2.200399398803711), (26814334, 2....</td>\n",
       "    </tr>\n",
       "    <tr>\n",
       "      <th>4</th>\n",
       "      <td>20929121</td>\n",
       "      <td>[(33491259, 2.3538997173309326), (22162048, 2....</td>\n",
       "    </tr>\n",
       "  </tbody>\n",
       "</table>\n",
       "</div>"
      ],
      "text/plain": [
       "   primary_video_id                                    recommendations\n",
       "0           2503270  [(50245367, 1.7377479076385498), (69026283, 1....\n",
       "1          16598040  [(30700999, 3.5905983448028564), (90627429, 3....\n",
       "2          26049640  [(46116994, 1.8512648344039917), (47528753, 1....\n",
       "3           2801091  [(103819960, 2.200399398803711), (26814334, 2....\n",
       "4          20929121  [(33491259, 2.3538997173309326), (22162048, 2...."
      ]
     },
     "execution_count": 15,
     "metadata": {},
     "output_type": "execute_result"
    }
   ],
   "source": [
    "movieRecs_df.head()"
   ]
  },
  {
   "cell_type": "markdown",
   "metadata": {},
   "source": [
    "Here we see recommendation and it's score by each movie."
   ]
  },
  {
   "cell_type": "markdown",
   "metadata": {},
   "source": [
    "# Summary"
   ]
  },
  {
   "cell_type": "markdown",
   "metadata": {},
   "source": [
    "In summary, collaborative filtering is one of the most popular approach to build recommendation system. \n",
    "Movie recommendation task become extremely popular after [Netflix competition](https://en.wikipedia.org/wiki/Netflix_Prize) with one million dollar prize, which push Machine Learning a lot in recommender systems field. \n",
    "\n",
    "With PySpark, we could get great results in this task just in a few lines of code. \n",
    "In production, new problems appeared, on of them is **cold start** problem when we have no any historical information about user, but still have to recommend something.\n",
    "But that's more than this tutorial would like to cover.\n",
    "\n",
    "Hope this small intro was useful, feel free to criticize, discuss, and maybe upvote:) "
   ]
  },
  {
   "cell_type": "markdown",
   "metadata": {},
   "source": [
    "## References"
   ]
  },
  {
   "cell_type": "markdown",
   "metadata": {},
   "source": [
    "* [Spark docs](https://spark.apache.org/docs/2.2.0/ml-collaborative-filtering.html)\n",
    "* [Megogo challenge baselines](https://github.com/SantyagoSeaman/megogo_challenge_solutions)\n",
    "* [More on ranking metrics](https://spark.apache.org/docs/2.2.0/api/python/pyspark.mllib.html#pyspark.mllib.evaluation.RankingMetrics)\n",
    "* [How does netflix recommeder system works](https://help.netflix.com/en/node/100639)\n",
    "\n",
    "\n",
    "\n"
   ]
  }
 ],
 "metadata": {
  "kernelspec": {
   "display_name": "Python 3",
   "language": "python",
   "name": "python3"
  },
  "language_info": {
   "codemirror_mode": {
    "name": "ipython",
    "version": 3
   },
   "file_extension": ".py",
   "mimetype": "text/x-python",
   "name": "python",
   "nbconvert_exporter": "python",
   "pygments_lexer": "ipython3",
   "version": "3.6.4"
  }
 },
 "nbformat": 4,
 "nbformat_minor": 1
}
